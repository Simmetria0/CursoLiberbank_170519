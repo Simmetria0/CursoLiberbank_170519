{
 "cells": [
  {
   "cell_type": "markdown",
   "metadata": {},
   "source": [
    "## Your turn!"
   ]
  },
  {
   "cell_type": "code",
   "execution_count": 1,
   "metadata": {},
   "outputs": [],
   "source": [
    "#import libraries\n",
    "import matplotlib.pyplot as plt\n",
    "import numpy as np\n",
    "from pandas import Series\n",
    "from pandas import DataFrame\n",
    "from pandas import TimeGrouper\n",
    "from pandas import concat\n",
    "from matplotlib import pyplot"
   ]
  },
  {
   "cell_type": "code",
   "execution_count": 2,
   "metadata": {},
   "outputs": [
    {
     "name": "stderr",
     "output_type": "stream",
     "text": [
      "/Users/diegotuccillo/anaconda3/lib/python3.7/site-packages/pandas/core/series.py:4141: FutureWarning: from_csv is deprecated. Please use read_csv(...) instead. Note that some of the default arguments are different, so please refer to the documentation for from_csv when changing your function calls\n",
      "  infer_datetime_format=infer_datetime_format)\n"
     ]
    },
    {
     "data": {
      "text/plain": [
       "Date\n",
       "1990-01-01    14.8\n",
       "1990-01-02    13.3\n",
       "1990-01-03    15.6\n",
       "1990-01-04    14.5\n",
       "1990-01-05    14.3\n",
       "1990-01-06    15.3\n",
       "1990-01-07    16.4\n",
       "1990-01-08    14.8\n",
       "1990-01-09    17.4\n",
       "1990-01-10    18.8\n",
       "1990-01-11    22.1\n",
       "1990-01-12    19.0\n",
       "1990-01-13    15.5\n",
       "1990-01-14    15.8\n",
       "1990-01-15    14.7\n",
       "1990-01-16    10.7\n",
       "1990-01-17    11.5\n",
       "1990-01-18    15.0\n",
       "1990-01-19    14.5\n",
       "1990-01-20    14.5\n",
       "1990-01-21    13.3\n",
       "1990-01-22    14.3\n",
       "1990-01-23    14.3\n",
       "1990-01-24    20.5\n",
       "1990-01-25    15.0\n",
       "1990-01-26    17.1\n",
       "1990-01-27    16.9\n",
       "1990-01-28    16.9\n",
       "1990-01-29    13.6\n",
       "1990-01-30    16.4\n",
       "              ... \n",
       "1990-12-02    13.2\n",
       "1990-12-03    16.2\n",
       "1990-12-04    17.3\n",
       "1990-12-05    20.5\n",
       "1990-12-06    20.2\n",
       "1990-12-07    19.4\n",
       "1990-12-08    15.5\n",
       "1990-12-09    14.1\n",
       "1990-12-10    11.0\n",
       "1990-12-11    11.1\n",
       "1990-12-12    14.0\n",
       "1990-12-13    11.4\n",
       "1990-12-14    12.5\n",
       "1990-12-15    13.4\n",
       "1990-12-16    13.6\n",
       "1990-12-17    13.9\n",
       "1990-12-18    17.2\n",
       "1990-12-19    14.7\n",
       "1990-12-20    15.4\n",
       "1990-12-21    13.1\n",
       "1990-12-22    13.2\n",
       "1990-12-23    13.9\n",
       "1990-12-24    10.0\n",
       "1990-12-25    12.9\n",
       "1990-12-26    14.6\n",
       "1990-12-27    14.0\n",
       "1990-12-28    13.6\n",
       "1990-12-29    13.5\n",
       "1990-12-30    15.7\n",
       "1990-12-31    13.0\n",
       "Name: Temp, Length: 365, dtype: float64"
      ]
     },
     "execution_count": 2,
     "metadata": {},
     "output_type": "execute_result"
    }
   ],
   "source": [
    "series = Series.from_csv('temperatures.csv', header=0)\n",
    "one_year = series['1990']\n",
    "one_year"
   ]
  },
  {
   "cell_type": "markdown",
   "metadata": {},
   "source": [
    "---\n",
    "\n",
    "- Print the first few rows using the head() function.\n",
    "- Print the dimensions of the dataset using the size attribute.\n",
    "- Query the dataset using a date-time string, how many born in january?\n",
    "- Print summary statistics of the observations\n",
    "- Plot of the time series\n",
    "- Histogram\n",
    "- Density Plot\n",
    "- Resample and Plot of the time series\n",
    "- Lag plots\n",
    "- autocorrelation plots\n",
    "\n",
    "Note: in this dataset we will see cycles of strong negative and positive correlation. Sine waves are a strong sign of seasonality in the dataset.\n",
    "\n",
    "Forecasting:\n",
    "- AR\n",
    "- ARIMA\n",
    "\n",
    "---"
   ]
  },
  {
   "cell_type": "code",
   "execution_count": null,
   "metadata": {},
   "outputs": [],
   "source": []
  }
 ],
 "metadata": {
  "kernelspec": {
   "display_name": "Python 3",
   "language": "python",
   "name": "python3"
  },
  "language_info": {
   "codemirror_mode": {
    "name": "ipython",
    "version": 3
   },
   "file_extension": ".py",
   "mimetype": "text/x-python",
   "name": "python",
   "nbconvert_exporter": "python",
   "pygments_lexer": "ipython3",
   "version": "3.7.3"
  }
 },
 "nbformat": 4,
 "nbformat_minor": 2
}
