{
  "nbformat": 4,
  "nbformat_minor": 0,
  "metadata": {
    "colab": {
      "name": "LSTM_Tutorial.ipynb",
      "version": "0.3.2",
      "provenance": []
    },
    "language_info": {
      "codemirror_mode": {
        "name": "ipython",
        "version": 3
      },
      "file_extension": ".py",
      "mimetype": "text/x-python",
      "name": "python",
      "nbconvert_exporter": "python",
      "pygments_lexer": "ipython3",
      "version": "3.7.3"
    },
    "kernelspec": {
      "display_name": "Python 3",
      "language": "python",
      "name": "python3"
    }
  },
  "cells": [
    {
      "cell_type": "markdown",
      "metadata": {
        "id": "DvOhm65Cwj4T",
        "colab_type": "text"
      },
      "source": [
        "# Tutorial on LSTM\n",
        "\n",
        "## Diego Tuccillo\n",
        "\n",
        "The data are stock prices of APPLE  downloaded from Yahoo Finance.\n",
        "\n",
        "https://finance.yahoo.com/quote/AAPL/history?p=AAPL&.tsrc=fin-srch"
      ]
    },
    {
      "cell_type": "code",
      "metadata": {
        "id": "Xqel6oIpwj4W",
        "colab_type": "code",
        "colab": {
          "base_uri": "https://localhost:8080/",
          "height": 34
        },
        "outputId": "80e06696-f3d7-4c0c-8950-a2c61b818b6a"
      },
      "source": [
        "import numpy as np  \n",
        "import matplotlib.pyplot as plt  \n",
        "import pandas as pd  \n",
        "from keras.models import Sequential  \n",
        "from keras.layers import Dense  \n",
        "from keras.layers import LSTM  \n",
        "from keras.layers import Dropout "
      ],
      "execution_count": 1,
      "outputs": [
        {
          "output_type": "stream",
          "text": [
            "Using TensorFlow backend.\n"
          ],
          "name": "stderr"
        }
      ]
    },
    {
      "cell_type": "code",
      "metadata": {
        "id": "Z_rKM5NLwj4c",
        "colab_type": "code",
        "colab": {
          "base_uri": "https://localhost:8080/",
          "height": 80
        },
        "outputId": "32a00892-489b-4d1b-8c15-bd4eb3077709"
      },
      "source": [
        "#import data in Colab\n",
        "! git clone https://github.com/Simmetria0/data.git\n",
        "\n",
        "\n",
        "#Of course from your laptop you just need the usual\n",
        "#data = pd.read_csv('stock_data.csv') "
      ],
      "execution_count": 3,
      "outputs": [
        {
          "output_type": "stream",
          "text": [
            "fatal: destination path 'data' already exists and is not an empty directory.\n",
            "data  sample_data\n"
          ],
          "name": "stdout"
        }
      ]
    },
    {
      "cell_type": "code",
      "metadata": {
        "id": "Erj-Ietlxyc-",
        "colab_type": "code",
        "colab": {
          "base_uri": "https://localhost:8080/",
          "height": 63
        },
        "outputId": "b0c1e318-8572-4efb-a834-2a7de63d529b"
      },
      "source": [
        "! ls"
      ],
      "execution_count": 4,
      "outputs": [
        {
          "output_type": "stream",
          "text": [
            "data  sample_data\n"
          ],
          "name": "stdout"
        }
      ]
    },
    {
      "cell_type": "code",
      "metadata": {
        "id": "yXyUe_27yB2V",
        "colab_type": "code",
        "colab": {}
      },
      "source": [
        "data = pd.read_csv('data/stock_data.csv') "
      ],
      "execution_count": 0,
      "outputs": []
    },
    {
      "cell_type": "code",
      "metadata": {
        "id": "Prcd40GOwj4k",
        "colab_type": "code",
        "colab": {
          "base_uri": "https://localhost:8080/",
          "height": 297
        },
        "outputId": "dad310a1-8a52-4ca0-f4d7-af4dcfafb627"
      },
      "source": [
        "data.describe()"
      ],
      "execution_count": 6,
      "outputs": [
        {
          "output_type": "execute_result",
          "data": {
            "text/html": [
              "<div>\n",
              "<style scoped>\n",
              "    .dataframe tbody tr th:only-of-type {\n",
              "        vertical-align: middle;\n",
              "    }\n",
              "\n",
              "    .dataframe tbody tr th {\n",
              "        vertical-align: top;\n",
              "    }\n",
              "\n",
              "    .dataframe thead th {\n",
              "        text-align: right;\n",
              "    }\n",
              "</style>\n",
              "<table border=\"1\" class=\"dataframe\">\n",
              "  <thead>\n",
              "    <tr style=\"text-align: right;\">\n",
              "      <th></th>\n",
              "      <th>Open</th>\n",
              "      <th>High</th>\n",
              "      <th>Low</th>\n",
              "      <th>Close</th>\n",
              "      <th>Adj Close</th>\n",
              "      <th>Volume</th>\n",
              "    </tr>\n",
              "  </thead>\n",
              "  <tbody>\n",
              "    <tr>\n",
              "      <th>count</th>\n",
              "      <td>1531.000000</td>\n",
              "      <td>1531.000000</td>\n",
              "      <td>1531.000000</td>\n",
              "      <td>1531.000000</td>\n",
              "      <td>1531.000000</td>\n",
              "      <td>1.531000e+03</td>\n",
              "    </tr>\n",
              "    <tr>\n",
              "      <th>mean</th>\n",
              "      <td>120.999114</td>\n",
              "      <td>122.058477</td>\n",
              "      <td>119.918809</td>\n",
              "      <td>121.008258</td>\n",
              "      <td>113.783728</td>\n",
              "      <td>5.262149e+07</td>\n",
              "    </tr>\n",
              "    <tr>\n",
              "      <th>std</th>\n",
              "      <td>41.577734</td>\n",
              "      <td>41.937872</td>\n",
              "      <td>41.207180</td>\n",
              "      <td>41.588037</td>\n",
              "      <td>44.931320</td>\n",
              "      <td>3.556163e+07</td>\n",
              "    </tr>\n",
              "    <tr>\n",
              "      <th>min</th>\n",
              "      <td>55.424286</td>\n",
              "      <td>57.085712</td>\n",
              "      <td>55.014286</td>\n",
              "      <td>55.790001</td>\n",
              "      <td>41.125267</td>\n",
              "      <td>1.147590e+07</td>\n",
              "    </tr>\n",
              "    <tr>\n",
              "      <th>25%</th>\n",
              "      <td>93.350003</td>\n",
              "      <td>94.064999</td>\n",
              "      <td>92.264999</td>\n",
              "      <td>93.410000</td>\n",
              "      <td>86.281616</td>\n",
              "      <td>2.837555e+07</td>\n",
              "    </tr>\n",
              "    <tr>\n",
              "      <th>50%</th>\n",
              "      <td>113.459999</td>\n",
              "      <td>114.360001</td>\n",
              "      <td>112.309998</td>\n",
              "      <td>113.489998</td>\n",
              "      <td>106.948166</td>\n",
              "      <td>4.209060e+07</td>\n",
              "    </tr>\n",
              "    <tr>\n",
              "      <th>75%</th>\n",
              "      <td>153.190002</td>\n",
              "      <td>153.985001</td>\n",
              "      <td>151.320000</td>\n",
              "      <td>153.105003</td>\n",
              "      <td>148.918037</td>\n",
              "      <td>6.553960e+07</td>\n",
              "    </tr>\n",
              "    <tr>\n",
              "      <th>max</th>\n",
              "      <td>230.779999</td>\n",
              "      <td>233.470001</td>\n",
              "      <td>229.779999</td>\n",
              "      <td>232.070007</td>\n",
              "      <td>229.392090</td>\n",
              "      <td>3.652131e+08</td>\n",
              "    </tr>\n",
              "  </tbody>\n",
              "</table>\n",
              "</div>"
            ],
            "text/plain": [
              "              Open         High  ...    Adj Close        Volume\n",
              "count  1531.000000  1531.000000  ...  1531.000000  1.531000e+03\n",
              "mean    120.999114   122.058477  ...   113.783728  5.262149e+07\n",
              "std      41.577734    41.937872  ...    44.931320  3.556163e+07\n",
              "min      55.424286    57.085712  ...    41.125267  1.147590e+07\n",
              "25%      93.350003    94.064999  ...    86.281616  2.837555e+07\n",
              "50%     113.459999   114.360001  ...   106.948166  4.209060e+07\n",
              "75%     153.190002   153.985001  ...   148.918037  6.553960e+07\n",
              "max     230.779999   233.470001  ...   229.392090  3.652131e+08\n",
              "\n",
              "[8 rows x 6 columns]"
            ]
          },
          "metadata": {
            "tags": []
          },
          "execution_count": 6
        }
      ]
    },
    {
      "cell_type": "code",
      "metadata": {
        "id": "6oTQsVXowj4o",
        "colab_type": "code",
        "colab": {
          "base_uri": "https://localhost:8080/",
          "height": 221
        },
        "outputId": "bd3a4e08-e43e-410f-964f-598fd16d7fae"
      },
      "source": [
        "print(data.shape)\n",
        "data.head(5)"
      ],
      "execution_count": 7,
      "outputs": [
        {
          "output_type": "stream",
          "text": [
            "(1531, 7)\n"
          ],
          "name": "stdout"
        },
        {
          "output_type": "execute_result",
          "data": {
            "text/html": [
              "<div>\n",
              "<style scoped>\n",
              "    .dataframe tbody tr th:only-of-type {\n",
              "        vertical-align: middle;\n",
              "    }\n",
              "\n",
              "    .dataframe tbody tr th {\n",
              "        vertical-align: top;\n",
              "    }\n",
              "\n",
              "    .dataframe thead th {\n",
              "        text-align: right;\n",
              "    }\n",
              "</style>\n",
              "<table border=\"1\" class=\"dataframe\">\n",
              "  <thead>\n",
              "    <tr style=\"text-align: right;\">\n",
              "      <th></th>\n",
              "      <th>Date</th>\n",
              "      <th>Open</th>\n",
              "      <th>High</th>\n",
              "      <th>Low</th>\n",
              "      <th>Close</th>\n",
              "      <th>Adj Close</th>\n",
              "      <th>Volume</th>\n",
              "    </tr>\n",
              "  </thead>\n",
              "  <tbody>\n",
              "    <tr>\n",
              "      <th>0</th>\n",
              "      <td>2012-12-31</td>\n",
              "      <td>72.932854</td>\n",
              "      <td>76.485718</td>\n",
              "      <td>72.714287</td>\n",
              "      <td>76.024284</td>\n",
              "      <td>53.767834</td>\n",
              "      <td>164873100</td>\n",
              "    </tr>\n",
              "    <tr>\n",
              "      <th>1</th>\n",
              "      <td>2013-01-02</td>\n",
              "      <td>79.117142</td>\n",
              "      <td>79.285713</td>\n",
              "      <td>77.375717</td>\n",
              "      <td>78.432854</td>\n",
              "      <td>55.471294</td>\n",
              "      <td>140129500</td>\n",
              "    </tr>\n",
              "    <tr>\n",
              "      <th>2</th>\n",
              "      <td>2013-01-03</td>\n",
              "      <td>78.268570</td>\n",
              "      <td>78.524284</td>\n",
              "      <td>77.285713</td>\n",
              "      <td>77.442856</td>\n",
              "      <td>54.771122</td>\n",
              "      <td>88241300</td>\n",
              "    </tr>\n",
              "    <tr>\n",
              "      <th>3</th>\n",
              "      <td>2013-01-04</td>\n",
              "      <td>76.709999</td>\n",
              "      <td>76.947144</td>\n",
              "      <td>75.118568</td>\n",
              "      <td>75.285713</td>\n",
              "      <td>53.245483</td>\n",
              "      <td>148583400</td>\n",
              "    </tr>\n",
              "    <tr>\n",
              "      <th>4</th>\n",
              "      <td>2013-01-07</td>\n",
              "      <td>74.571426</td>\n",
              "      <td>75.614288</td>\n",
              "      <td>73.599998</td>\n",
              "      <td>74.842857</td>\n",
              "      <td>52.932274</td>\n",
              "      <td>121039100</td>\n",
              "    </tr>\n",
              "  </tbody>\n",
              "</table>\n",
              "</div>"
            ],
            "text/plain": [
              "         Date       Open       High        Low      Close  Adj Close     Volume\n",
              "0  2012-12-31  72.932854  76.485718  72.714287  76.024284  53.767834  164873100\n",
              "1  2013-01-02  79.117142  79.285713  77.375717  78.432854  55.471294  140129500\n",
              "2  2013-01-03  78.268570  78.524284  77.285713  77.442856  54.771122   88241300\n",
              "3  2013-01-04  76.709999  76.947144  75.118568  75.285713  53.245483  148583400\n",
              "4  2013-01-07  74.571426  75.614288  73.599998  74.842857  52.932274  121039100"
            ]
          },
          "metadata": {
            "tags": []
          },
          "execution_count": 7
        }
      ]
    },
    {
      "cell_type": "code",
      "metadata": {
        "id": "_ObaNE1jwj4r",
        "colab_type": "code",
        "colab": {},
        "outputId": "35a136a8-822f-4eb7-84d3-03f5f6f0d7c6"
      },
      "source": [
        "plt.plot(data.Date, data.Open)\n",
        "plt.show()"
      ],
      "execution_count": 0,
      "outputs": [
        {
          "output_type": "display_data",
          "data": {
            "image/png": "[encoded data removed]",
            "text/plain": [
              "<Figure size 432x288 with 1 Axes>"
            ]
          },
          "metadata": {
            "tags": [],
            "needs_background": "light"
          }
        }
      ]
    },
    {
      "cell_type": "code",
      "metadata": {
        "id": "BIJX66Rtwj4t",
        "colab_type": "code",
        "colab": {}
      },
      "source": [
        "#We are only interested in the opening price of the stock.\n",
        "\n",
        "series = data.iloc[:, 1:2].values "
      ],
      "execution_count": 0,
      "outputs": []
    },
    {
      "cell_type": "code",
      "metadata": {
        "id": "1rURNZ5twj4v",
        "colab_type": "code",
        "colab": {
          "base_uri": "https://localhost:8080/",
          "height": 34
        },
        "outputId": "8cdbc373-8611-45ad-bf26-0271ab673aff"
      },
      "source": [
        "# And now let's apply the ML steps:\n",
        "#1) Normalization\n",
        "from sklearn.preprocessing import MinMaxScaler  \n",
        "scaler = MinMaxScaler(feature_range = (0, 1))\n",
        "\n",
        "series_scaled = scaler.fit_transform(series)  \n",
        "\n",
        "series_scaled.shape"
      ],
      "execution_count": 9,
      "outputs": [
        {
          "output_type": "execute_result",
          "data": {
            "text/plain": [
              "(1531, 1)"
            ]
          },
          "metadata": {
            "tags": []
          },
          "execution_count": 9
        }
      ]
    },
    {
      "cell_type": "markdown",
      "metadata": {
        "id": "XJplEBvcwj4w",
        "colab_type": "text"
      },
      "source": [
        "---\n",
        "We are going to predict the opening stock price of the data based on the opening stock prices for the past 60 days. You can change of course this number, is the lag. You can try different numbers and see how your algorithm performs.\n",
        "\n",
        "Our feature set should contain the opening stock price values for the past 60 days while the label or dependent variable should be the stock price at the 61st day. \n",
        "\n",
        "---"
      ]
    },
    {
      "cell_type": "code",
      "metadata": {
        "id": "NfdKWTtxwj4x",
        "colab_type": "code",
        "colab": {}
      },
      "source": [
        "# Convert Training Data to Right Shape\n",
        "features_set = []  \n",
        "labels = []  \n",
        "for i in range(60, 1531):  \n",
        "    features_set.append(series_scaled[i-60:i, 0])\n",
        "    labels.append(series_scaled[i, 0])\n",
        "\n",
        "\n",
        "    \n",
        "    "
      ],
      "execution_count": 0,
      "outputs": []
    },
    {
      "cell_type": "code",
      "metadata": {
        "id": "pV8OlhKuwj4y",
        "colab_type": "code",
        "colab": {
          "base_uri": "https://localhost:8080/",
          "height": 51
        },
        "outputId": "0b00e946-5eea-40c6-9ac1-129cdf476c70"
      },
      "source": [
        "print(len(features_set))\n",
        "print(len(labels))"
      ],
      "execution_count": 28,
      "outputs": [
        {
          "output_type": "stream",
          "text": [
            "1471\n",
            "1471\n"
          ],
          "name": "stdout"
        }
      ]
    },
    {
      "cell_type": "code",
      "metadata": {
        "id": "TQ9bmezKwj40",
        "colab_type": "code",
        "colab": {}
      },
      "source": [
        "#Right shape to feed the LSTM:\n",
        "#A) Convert both the feature_set and the labels list to the numpy array \n",
        "features_set, labels = np.array(features_set), np.array(labels)  \n",
        "\n"
      ],
      "execution_count": 0,
      "outputs": []
    },
    {
      "cell_type": "markdown",
      "metadata": {
        "id": "rT3DLDySwj41",
        "colab_type": "text"
      },
      "source": [
        "B) We need to convert our data into the shape accepted by the LSTM. We need to convert our data into three-dimensional format. \n",
        "- The first dimension is the number of records or rows in the dataset. \n",
        "- The second dimension is the number of time steps which is 60 \n",
        "- while the last dimension is the number of indicators. Since we are only using one feature, i.e Open, it is 1"
      ]
    },
    {
      "cell_type": "code",
      "metadata": {
        "id": "8XwuP4Z7wj41",
        "colab_type": "code",
        "colab": {}
      },
      "source": [
        "features_set = np.reshape(features_set, (features_set.shape[0], features_set.shape[1], 1))  \n"
      ],
      "execution_count": 0,
      "outputs": []
    },
    {
      "cell_type": "code",
      "metadata": {
        "id": "FFFLWH-czxxm",
        "colab_type": "code",
        "colab": {
          "base_uri": "https://localhost:8080/",
          "height": 51
        },
        "outputId": "8058b0ca-fa61-4ca0-b06f-4883359c792d"
      },
      "source": [
        "print(features_set.shape)\n",
        "print (labels.shape)"
      ],
      "execution_count": 35,
      "outputs": [
        {
          "output_type": "stream",
          "text": [
            "(1471, 60, 1)\n",
            "(1471,)\n"
          ],
          "name": "stdout"
        }
      ]
    },
    {
      "cell_type": "code",
      "metadata": {
        "id": "CTcrflBy0JPe",
        "colab_type": "code",
        "colab": {
          "base_uri": "https://localhost:8080/",
          "height": 51
        },
        "outputId": "dee2d518-a56c-4cd4-d98e-39414485e24a"
      },
      "source": [
        "#Divide in Train and test\n",
        "train_set = features_set[:1200,:,:]\n",
        "train_labels = labels[:1200]\n",
        "test_set = features_set[1200:,:,:]\n",
        "test_labels = labels[1200:]\n",
        "\n",
        "print(train_labels.shape)\n",
        "print(test_labels.shape)"
      ],
      "execution_count": 38,
      "outputs": [
        {
          "output_type": "stream",
          "text": [
            "(1200,)\n",
            "(271,)\n"
          ],
          "name": "stdout"
        }
      ]
    },
    {
      "cell_type": "code",
      "metadata": {
        "id": "q05iSJz6wj42",
        "colab_type": "code",
        "colab": {}
      },
      "source": [
        "# Create the Network\n",
        "\n",
        "def myModel():\n",
        "    model = Sequential() \n",
        "    model.add(LSTM(units=50, return_sequences=True, input_shape=(features_set.shape[1], 1)))  \n",
        "    model.add(Dropout(0.2))  \n",
        "    model.add(LSTM(units=50, return_sequences=True))  \n",
        "    model.add(Dropout(0.2))\n",
        "\n",
        "    model.add(LSTM(units=50, return_sequences=True))  \n",
        "    model.add(Dropout(0.2))\n",
        "\n",
        "    model.add(LSTM(units=50))  \n",
        "    model.add(Dropout(0.2))\n",
        "    model.add(Dense(units = 1)) \n",
        "    return model\n"
      ],
      "execution_count": 0,
      "outputs": []
    },
    {
      "cell_type": "code",
      "metadata": {
        "id": "Tr2cokm4wj43",
        "colab_type": "code",
        "colab": {
          "base_uri": "https://localhost:8080/",
          "height": 159
        },
        "outputId": "4a50424e-87b7-466b-d0df-5b08dcfac38d"
      },
      "source": [
        "#compile the model\n",
        "model=myModel()\n",
        "model.compile(optimizer = 'adam', loss = 'mean_squared_error')  "
      ],
      "execution_count": 15,
      "outputs": [
        {
          "output_type": "stream",
          "text": [
            "WARNING:tensorflow:From /usr/local/lib/python3.6/dist-packages/tensorflow/python/framework/op_def_library.py:263: colocate_with (from tensorflow.python.framework.ops) is deprecated and will be removed in a future version.\n",
            "Instructions for updating:\n",
            "Colocations handled automatically by placer.\n",
            "WARNING:tensorflow:From /usr/local/lib/python3.6/dist-packages/keras/backend/tensorflow_backend.py:3445: calling dropout (from tensorflow.python.ops.nn_ops) with keep_prob is deprecated and will be removed in a future version.\n",
            "Instructions for updating:\n",
            "Please use `rate` instead of `keep_prob`. Rate should be set to `rate = 1 - keep_prob`.\n"
          ],
          "name": "stdout"
        }
      ]
    },
    {
      "cell_type": "code",
      "metadata": {
        "id": "Li2l_EBUwj44",
        "colab_type": "code",
        "colab": {
          "base_uri": "https://localhost:8080/",
          "height": 884
        },
        "outputId": "4b2c097a-5bae-4e7c-ab4d-841a3c056156"
      },
      "source": [
        "#and now we fit\n",
        "model.fit(train_set, train_labels, epochs = 25, batch_size = 32)  "
      ],
      "execution_count": 40,
      "outputs": [
        {
          "output_type": "stream",
          "text": [
            "Epoch 1/25\n",
            "1200/1200 [==============================] - 6s 5ms/step - loss: 0.0018\n",
            "Epoch 2/25\n",
            "1200/1200 [==============================] - 6s 5ms/step - loss: 0.0018\n",
            "Epoch 3/25\n",
            "1200/1200 [==============================] - 6s 5ms/step - loss: 0.0017\n",
            "Epoch 4/25\n",
            "1200/1200 [==============================] - 6s 5ms/step - loss: 0.0015\n",
            "Epoch 5/25\n",
            "1200/1200 [==============================] - 6s 5ms/step - loss: 0.0017\n",
            "Epoch 6/25\n",
            "1200/1200 [==============================] - 6s 5ms/step - loss: 0.0018\n",
            "Epoch 7/25\n",
            "1200/1200 [==============================] - 6s 5ms/step - loss: 0.0013\n",
            "Epoch 8/25\n",
            "1200/1200 [==============================] - 6s 5ms/step - loss: 0.0016\n",
            "Epoch 9/25\n",
            "1200/1200 [==============================] - 6s 5ms/step - loss: 0.0014\n",
            "Epoch 10/25\n",
            "1200/1200 [==============================] - 6s 5ms/step - loss: 0.0017\n",
            "Epoch 11/25\n",
            "1200/1200 [==============================] - 6s 5ms/step - loss: 0.0014\n",
            "Epoch 12/25\n",
            "1200/1200 [==============================] - 6s 5ms/step - loss: 0.0012\n",
            "Epoch 13/25\n",
            "1200/1200 [==============================] - 6s 5ms/step - loss: 0.0012\n",
            "Epoch 14/25\n",
            "1200/1200 [==============================] - 6s 5ms/step - loss: 0.0013\n",
            "Epoch 15/25\n",
            "1200/1200 [==============================] - 6s 5ms/step - loss: 0.0013\n",
            "Epoch 16/25\n",
            "1200/1200 [==============================] - 6s 5ms/step - loss: 0.0011\n",
            "Epoch 17/25\n",
            "1200/1200 [==============================] - 6s 5ms/step - loss: 0.0013\n",
            "Epoch 18/25\n",
            "1200/1200 [==============================] - 6s 5ms/step - loss: 0.0012\n",
            "Epoch 19/25\n",
            "1200/1200 [==============================] - 6s 5ms/step - loss: 0.0011\n",
            "Epoch 20/25\n",
            "1200/1200 [==============================] - 6s 5ms/step - loss: 0.0012\n",
            "Epoch 21/25\n",
            "1200/1200 [==============================] - 6s 5ms/step - loss: 0.0011\n",
            "Epoch 22/25\n",
            "1200/1200 [==============================] - 6s 5ms/step - loss: 0.0011\n",
            "Epoch 23/25\n",
            "1200/1200 [==============================] - 6s 5ms/step - loss: 0.0010\n",
            "Epoch 24/25\n",
            "1200/1200 [==============================] - 6s 5ms/step - loss: 0.0011\n",
            "Epoch 25/25\n",
            "1200/1200 [==============================] - 6s 5ms/step - loss: 0.0010\n"
          ],
          "name": "stdout"
        },
        {
          "output_type": "execute_result",
          "data": {
            "text/plain": [
              "<keras.callbacks.History at 0x7f1355f8acf8>"
            ]
          },
          "metadata": {
            "tags": []
          },
          "execution_count": 40
        }
      ]
    },
    {
      "cell_type": "code",
      "metadata": {
        "id": "LJAke0oRwj46",
        "colab_type": "code",
        "colab": {}
      },
      "source": [
        "#Let's test our predictions\n",
        "\n",
        "predictions = model.predict(test_set)  "
      ],
      "execution_count": 0,
      "outputs": []
    },
    {
      "cell_type": "code",
      "metadata": {
        "id": "81g1SlpZ2PM9",
        "colab_type": "code",
        "colab": {}
      },
      "source": [
        "#rescale\n",
        "\n",
        "predictions = scaler.inverse_transform(predictions)  "
      ],
      "execution_count": 0,
      "outputs": []
    },
    {
      "cell_type": "code",
      "metadata": {
        "id": "oMe_5DVX2wly",
        "colab_type": "code",
        "colab": {
          "base_uri": "https://localhost:8080/",
          "height": 51
        },
        "outputId": "c85c962f-8445-4f69-f9dc-654634481e83"
      },
      "source": [
        "print(predictions.shape)\n",
        "series[-271:,].shape\n"
      ],
      "execution_count": 55,
      "outputs": [
        {
          "output_type": "stream",
          "text": [
            "(271, 1)\n"
          ],
          "name": "stdout"
        },
        {
          "output_type": "execute_result",
          "data": {
            "text/plain": [
              "(271, 1)"
            ]
          },
          "metadata": {
            "tags": []
          },
          "execution_count": 55
        }
      ]
    },
    {
      "cell_type": "code",
      "metadata": {
        "id": "uBnP5C-Z2YDM",
        "colab_type": "code",
        "colab": {
          "base_uri": "https://localhost:8080/",
          "height": 392
        },
        "outputId": "de98dcfc-23bc-43bb-8a03-59f318d6af7a"
      },
      "source": [
        "#and plot results:\n",
        "\n",
        "plt.figure(figsize=(10,6))  \n",
        "plt.plot(series[-271:,], color='blue', label='Actual Stock Price')  \n",
        "plt.plot(predictions , color='red', label='Predicted Stock Price')  \n",
        "plt.xlabel('Date')  \n",
        "plt.ylabel('Apple Stock Price')  \n",
        "plt.legend()  \n",
        "plt.show() "
      ],
      "execution_count": 57,
      "outputs": [
        {
          "output_type": "display_data",
          "data": {
            "image/png": "[encoded data removed]",
            "text/plain": [
              "<Figure size 720x432 with 1 Axes>"
            ]
          },
          "metadata": {
            "tags": []
          }
        }
      ]
    }
  ]
}